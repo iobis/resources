{
 "cells": [
  {
   "cell_type": "markdown",
   "id": "45bc5972",
   "metadata": {},
   "source": [
    "# Using DuckDB to query the OBIS full export - Part 3 (`duckplyr` package)\n",
    "\n",
    "In the two previous tutorials we learned about how to use DuckDB for querying the Parquet exports and about the DuckDB spatial extension. Here we will explore the R package [`duckplyr`](https://duckplyr.tidyverse.org/index.html), a drop-in replacement for DuckDB on R which uses the `tidyverse` grammar.\n",
    "\n",
    "Again, we will work with a local copy of the full export, which you can download from here: https://obis.org/data/access/. \n",
    "\n",
    ">NOTE:\n",
    ">This will be a big download, around 16GB. If you are running it on Google Colab, use the compact version which is available on our GitHub. Just run the first cell below to download it. If you download the full export locally, maybe you should mount your own drive to avoid downloading it every time you restart the notebook.\n",
    "\n",
    "We will work with the European sea-bass [_Dicentrarchus labrax_](https://obis.org/taxon/126975). Let's start by simpling get all records for it.\n"
   ]
  },
  {
   "cell_type": "code",
   "execution_count": null,
   "id": "737afe30",
   "metadata": {
    "vscode": {
     "languageId": "r"
    }
   },
   "outputs": [],
   "source": [
    "# FOR GOOGLE COLAB USE THIS:\n",
    "download.file(\n",
    "    \"https://github.com/iobis/resources/raw/refs/heads/main/content/tutorials/duckdb-part3/compact_3.parquet.zip\",\n",
    "    \"compact_export.zip\"\n",
    ")\n",
    "zip::unzip(\"compact_export.zip\", exdir = \"occurrence\")\n",
    "# And then use this as your full export path:\n",
    "fe_path <- \"occurrence\""
   ]
  },
  {
   "cell_type": "code",
   "execution_count": null,
   "id": "481bc488",
   "metadata": {
    "vscode": {
     "languageId": "r"
    }
   },
   "outputs": [],
   "source": [
    "# To install the packages\n",
    "# For Google Colab:\n",
    "# system(\"apt-get install r-cran-duckplyr r-cran-tictoc r-cran-sf r-cran-ggplot2\")\n",
    "# For your own computer:\n",
    "# install.packages(c(\"duckplyr\", \"tictoc\", \"sf\", \"ggplot2\"))"
   ]
  },
  {
   "cell_type": "code",
   "execution_count": null,
   "id": "6c3ca1fc",
   "metadata": {
    "vscode": {
     "languageId": "r"
    }
   },
   "outputs": [],
   "source": [
    "suppressPackageStartupMessages(library(duckplyr)) # For queries\n",
    "suppressPackageStartupMessages(library(tictoc)) # To get timings\n",
    "suppressPackageStartupMessages(library(sf)) # To later work with the spatial results\n",
    "suppressPackageStartupMessages(library(ggplot2)) # For plotting\n",
    "\n",
    "# Put here the path to your downloaded full export\n",
    "# In this case we need to add *.parquet\n",
    "fe_path <- \"/Volumes/OBIS2/obis_20250318_parquet/occurrence/*.parquet\"\n",
    "\n",
    "full_export <- read_parquet_duckdb(fe_path)\n",
    "\n",
    "head(full_export)"
   ]
  },
  {
   "cell_type": "markdown",
   "id": "82c1c950",
   "metadata": {},
   "source": [
    "Note that differently from our previous tutorials, in this case `duckplyr` provides you with an overview (a sample) of the dataset once you open it. So far, we have not done any query. Let's proceed."
   ]
  },
  {
   "cell_type": "code",
   "execution_count": null,
   "id": "05db3c71",
   "metadata": {
    "vscode": {
     "languageId": "r"
    }
   },
   "outputs": [],
   "source": [
    "species_id <- 126975\n",
    "\n",
    "seabass_rec <- full_export |>\n",
    "    select(aphiaid, occurrenceID) |>\n",
    "    filter(aphiaid == species_id) |>\n",
    "    collect()\n",
    "\n",
    "head(seabass_rec)\n",
    "nrow(seabass_rec)"
   ]
  },
  {
   "cell_type": "markdown",
   "id": "e16e2468",
   "metadata": {},
   "source": [
    "We quickly got all records for the species. Under the hood, `duckplyr` is doing a SQL call just as we did on previous tutorials. You can check the query in two ways - using `explain()` or `show_query()`"
   ]
  },
  {
   "cell_type": "code",
   "execution_count": null,
   "id": "c5565413",
   "metadata": {
    "vscode": {
     "languageId": "r"
    }
   },
   "outputs": [],
   "source": [
    "full_export |>\n",
    "    select(aphiaid, occurrenceID) |>\n",
    "    filter(aphiaid == species_id) |>\n",
    "    explain()\n",
    "\n",
    "full_export |>\n",
    "    # To use show_query, we first need to convert to tbl, the format used\n",
    "    # by the package dbplyr\n",
    "    as_tbl() |>\n",
    "    select(aphiaid, occurrenceID) |>\n",
    "    filter(aphiaid == species_id) |>\n",
    "    show_query()"
   ]
  },
  {
   "cell_type": "markdown",
   "id": "83a4ad28",
   "metadata": {},
   "source": [
    "By checking the queries you might notice that _sometimes_ the queries are overly complex. But even with that, the package make it easier to do the queries, since it uses a grammar that is well know by R users.\n",
    "\n",
    "Now, we will do a more complex query. Aggregate by year, and get the number of records."
   ]
  },
  {
   "cell_type": "code",
   "execution_count": null,
   "id": "ed02ae79",
   "metadata": {
    "vscode": {
     "languageId": "r"
    }
   },
   "outputs": [],
   "source": [
    "seabass_rec_year <- full_export |>\n",
    "    select(aphiaid, occurrenceID, date_year, sst) |>\n",
    "    filter(aphiaid == species_id) |>\n",
    "    filter(!is.na(date_year)) |>\n",
    "    group_by(date_year) |>\n",
    "    summarise(\n",
    "        records = n()\n",
    "    ) |>\n",
    "    collect()\n",
    "\n",
    "tail(seabass_rec_year, 3)"
   ]
  },
  {
   "cell_type": "markdown",
   "id": "1f261496",
   "metadata": {},
   "source": [
    "\n",
    "Now, and about the extensions? You can use them as usual! For example, to install the `httpfs` extension to work with online data you simply use `db_exec(\"INSTALL httpfs; LOAD httpfs;\")`. Now we will try to use the spatial extension, that we saw on the last tutorial:"
   ]
  },
  {
   "cell_type": "code",
   "execution_count": null,
   "id": "712d42b2",
   "metadata": {
    "vscode": {
     "languageId": "r"
    }
   },
   "outputs": [],
   "source": [
    "# Install the extension\n",
    "db_exec(\"INSTALL spatial; LOAD spatial;\")\n",
    "\n",
    "sel_area <- \"POLYGON ((-14.414063 43.325178, 9.140625 43.325178, 9.140625 60.06484, -14.414063 60.06484, -14.414063 43.325178))\""
   ]
  },
  {
   "cell_type": "code",
   "execution_count": null,
   "id": "cb69a874",
   "metadata": {
    "vscode": {
     "languageId": "r"
    }
   },
   "outputs": [],
   "source": [
    "seabass_rec_geom <- full_export |>\n",
    "    select(aphiaid, occurrenceID, date_year, sst, geometry) |>\n",
    "    filter(aphiaid == species_id) |>\n",
    "    filter(!is.na(date_year)) |>\n",
    "    filter(ST_Intersects(geometry, ST_GeomFromText(sel_area))) |>\n",
    "    collect()"
   ]
  },
  {
   "cell_type": "markdown",
   "id": "7090a47a",
   "metadata": {},
   "source": [
    "As you see it fails. That is because `ST_Intersects` is not an R function, but a DuckDB extension function. How can we deal with that? We have to use the `dbplyr` capabilities instead. If you convert to a `tbl` object, you can then pass arbitrary functions to it. If it is not found in R, it will assume it is a DuckDB function."
   ]
  },
  {
   "cell_type": "code",
   "execution_count": null,
   "id": "bf71865a",
   "metadata": {
    "vscode": {
     "languageId": "r"
    }
   },
   "outputs": [],
   "source": [
    "seabass_rec_geom <- full_export |>\n",
    "    # convert to tbl, the format used by the package dbplyr\n",
    "    as_tbl() |>\n",
    "    # Do the queries\n",
    "    select(aphiaid, occurrenceID, date_year, sst, geometry) |>\n",
    "    filter(aphiaid == species_id) |>\n",
    "    filter(!is.na(date_year)) |>\n",
    "    # It will assume it is a DuckDB function\n",
    "    filter(ST_Intersects(geometry, ST_GeomFromText(sel_area))) |>\n",
    "    #show_query() # If you want to check the query\n",
    "    as_duckdb_tibble() |> # Go back to duckplyr, in this case not necessary as\n",
    "                          # we are not doing further queries\n",
    "    collect() # Materialize call\n",
    "\n",
    "head(seabass_rec_geom, 3)"
   ]
  },
  {
   "cell_type": "markdown",
   "id": "1bae62e2",
   "metadata": {},
   "source": [
    "One other nice extension is the H3 extension, which introduces the [H3 grid system](https://duckdb.org/community_extensions/extensions/h3.html) to DuckDB. Let's try it. We will do the same query as above, but now also get the H3 cells from it at the resolution 4, and plot the average SST and number of records in each heaxagon."
   ]
  },
  {
   "cell_type": "code",
   "execution_count": null,
   "id": "f3f67186",
   "metadata": {
    "vscode": {
     "languageId": "r"
    }
   },
   "outputs": [],
   "source": [
    "db_exec(\"INSTALL h3 FROM community; LOAD h3;\")\n",
    "\n",
    "seabass_rec_h3 <- full_export |>\n",
    "    # convert to tbl, the format used by the package dbplyr\n",
    "    as_tbl() |>\n",
    "    # Do the queries\n",
    "    select(aphiaid, occurrenceID, date_year, sst, geometry, decimalLongitude, decimalLatitude) |>\n",
    "    filter(aphiaid == species_id) |>\n",
    "    filter(!is.na(date_year)) |>\n",
    "    # It will assume it is a DuckDB function\n",
    "    filter(ST_Intersects(geometry, ST_GeomFromText(sel_area))) |>\n",
    "    # Note that the resolution should be passed as an integer, that is why we add the L to 4\n",
    "    mutate(h3_cell = h3_latlng_to_cell_string(decimalLatitude, decimalLongitude, 4L)) |>\n",
    "    mutate(h3_pol = h3_cell_to_boundary_wkt(h3_cell)) |>\n",
    "    #show_query() # If you want to check the query\n",
    "    as_duckdb_tibble() |> # Go back to duckplyr\n",
    "    group_by(h3_cell, h3_pol) |>\n",
    "    summarise(\n",
    "        records = n(),\n",
    "        average_sst = mean(sst, na.rm = T)\n",
    "    ) |>\n",
    "    collect() # Materialize call\n",
    "\n",
    "head(seabass_rec_h3, 3)"
   ]
  },
  {
   "cell_type": "markdown",
   "id": "598e412f",
   "metadata": {},
   "source": [
    "We can now plot it:"
   ]
  },
  {
   "cell_type": "code",
   "execution_count": null,
   "id": "7a9eb9de",
   "metadata": {
    "vscode": {
     "languageId": "r"
    }
   },
   "outputs": [],
   "source": [
    "seabass_rec_h3_sf <- st_as_sf(\n",
    "    seabass_rec_h3, wkt = \"h3_pol\", crs = 4326\n",
    ")\n",
    "\n",
    "sf_use_s2(FALSE)\n",
    "wrld <- rnaturalearth::ne_countries(returnclass = \"sf\")\n",
    "wrld <- st_crop(wrld, seabass_rec_h3_sf)\n",
    "\n",
    "ggplot() +\n",
    "    geom_sf(data = wrld, fill = \"grey90\") +\n",
    "    geom_sf(data = seabass_rec_h3_sf, aes(fill = records)) +\n",
    "    scale_fill_viridis_c(transform = \"log10\") +\n",
    "    theme_light() +\n",
    "    ggtitle(\"Number of records for the European sea-bass\")\n",
    "\n",
    "ggplot() +\n",
    "    geom_sf(data = wrld, fill = \"grey90\") +\n",
    "    geom_sf(data = seabass_rec_h3_sf, aes(fill = average_sst)) +\n",
    "    scale_fill_viridis_c(transform = \"log10\") +\n",
    "    theme_light() +\n",
    "    ggtitle(\"Average SST\")"
   ]
  },
  {
   "cell_type": "markdown",
   "id": "6bacb3f5",
   "metadata": {},
   "source": [
    "And that concludes our series about the use of DuckDB for querying the OBIS Parquet exports. We hope this will give you more tools to work with OBIS data."
   ]
  }
 ],
 "metadata": {
  "kernelspec": {
   "display_name": "R",
   "language": "R",
   "name": "ir"
  },
  "language_info": {
   "codemirror_mode": "r",
   "file_extension": ".r",
   "mimetype": "text/x-r-source",
   "name": "R",
   "pygments_lexer": "r",
   "version": "4.3.1"
  }
 },
 "nbformat": 4,
 "nbformat_minor": 5
}
